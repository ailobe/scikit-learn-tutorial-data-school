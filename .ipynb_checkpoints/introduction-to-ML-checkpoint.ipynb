{
 "cells": [
  {
   "cell_type": "markdown",
   "metadata": {},
   "source": [
    "# What is machine learning, and how does it work?"
   ]
  },
  {
   "cell_type": "markdown",
   "metadata": {},
   "source": [
    "### What is machine learning?\n",
    "- Machine Learning encompasses methods and related algorithms whose goal is to **learn from data**.\n",
    "- ML aims at finding the answer to a **specific question** by learning from **specific data**. It does so by unraveling the **patterns** that underlie the available data. .\n",
    "- If the question is not **answerable** using the available data, the ML model cannot find the correct patterns and cannot learn."
   ]
  },
  {
   "cell_type": "markdown",
   "metadata": {},
   "source": [
    "### What are the two main categories of machine learning?\n",
    "\n",
    "**Supervised learning**: making predictions using data\n",
    "\n",
    "Supervised learning requires that the possible outputs are already known and that the data used is already labeled with correct answers.\n",
    "\n",
    "**Unsupervised learning**: extracting structure from data\n",
    "\n",
    "Unsupervised Learning learns to identify patterns from unlabeled data without human guidance and assigns its own new labels to the data."
   ]
  },
  {
   "cell_type": "markdown",
   "metadata": {},
   "source": [
    "### How does machine learning work for supervised learning?\n",
    "\n",
    "Broadly speaking:\n",
    "\n",
    "1. Train a machine learning model using labeled data\n",
    "    - \"Labeled data\" has been labeled with the outcome\n",
    "    - \"Machine learning model\" learns the relationship between the attributes of the data and its outcome\n",
    "\n",
    "\n",
    "2. Make **predictions** on **new data** for which the label is unknown"
   ]
  },
  {
   "cell_type": "markdown",
   "metadata": {},
   "source": [
    "### 4. Big questions in supervised machine learning\n",
    "\n",
    "- How do I choose **which attributes** of my data to include in the model?\n",
    "- How do I choose **which model** to use?\n",
    "- How do I **optimize** this model for best performance?\n",
    "- How do I ensure that I'm building a model that will **generalize** to unseen data?\n",
    "- Can I **estimate** how well my model is likely to perform on unseen data?"
   ]
  },
  {
   "cell_type": "code",
   "execution_count": null,
   "metadata": {},
   "outputs": [],
   "source": []
  }
 ],
 "metadata": {
  "kernelspec": {
   "display_name": "Python 3",
   "language": "python",
   "name": "python3"
  },
  "language_info": {
   "codemirror_mode": {
    "name": "ipython",
    "version": 3
   },
   "file_extension": ".py",
   "mimetype": "text/x-python",
   "name": "python",
   "nbconvert_exporter": "python",
   "pygments_lexer": "ipython3",
   "version": "3.6.5"
  }
 },
 "nbformat": 4,
 "nbformat_minor": 2
}
